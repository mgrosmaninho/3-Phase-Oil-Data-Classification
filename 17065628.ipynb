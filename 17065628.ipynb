{
 "cells": [
  {
   "cell_type": "markdown",
   "id": "better-vegetation",
   "metadata": {},
   "source": [
    "# Machine Learning and Neural Computing: Data Classification Coursework"
   ]
  },
  {
   "cell_type": "code",
   "execution_count": 1,
   "id": "aboriginal-wednesday",
   "metadata": {},
   "outputs": [],
   "source": [
    "#####################\n",
    "# Loading Libraries #\n",
    "#####################\n",
    "\n",
    "import matplotlib.pyplot as plt\n",
    "import numpy as np\n",
    "import pandas as pd\n",
    "\n",
    "from sklearn.decomposition import PCA\n",
    "from sklearn.metrics import accuracy_score, classification_report\n",
    "from sklearn.model_selection import train_test_split\n",
    "from sklearn.preprocessing import StandardScaler\n",
    "from sklearn.svm import SVC"
   ]
  },
  {
   "cell_type": "markdown",
   "id": "welsh-donor",
   "metadata": {},
   "source": [
    "## Task 1 (a)"
   ]
  },
  {
   "cell_type": "code",
   "execution_count": 2,
   "id": "bulgarian-laptop",
   "metadata": {},
   "outputs": [
    {
     "name": "stdout",
     "output_type": "stream",
     "text": [
      "Training set shape: (1000, 13)\n"
     ]
    },
    {
     "data": {
      "text/html": [
       "<div>\n",
       "<style scoped>\n",
       "    .dataframe tbody tr th:only-of-type {\n",
       "        vertical-align: middle;\n",
       "    }\n",
       "\n",
       "    .dataframe tbody tr th {\n",
       "        vertical-align: top;\n",
       "    }\n",
       "\n",
       "    .dataframe thead th {\n",
       "        text-align: right;\n",
       "    }\n",
       "</style>\n",
       "<table border=\"1\" class=\"dataframe\">\n",
       "  <thead>\n",
       "    <tr style=\"text-align: right;\">\n",
       "      <th></th>\n",
       "      <th>F1</th>\n",
       "      <th>F2</th>\n",
       "      <th>F3</th>\n",
       "      <th>F4</th>\n",
       "      <th>F5</th>\n",
       "      <th>F6</th>\n",
       "      <th>F7</th>\n",
       "      <th>F8</th>\n",
       "      <th>F9</th>\n",
       "      <th>F10</th>\n",
       "      <th>F11</th>\n",
       "      <th>F12</th>\n",
       "      <th>L</th>\n",
       "    </tr>\n",
       "  </thead>\n",
       "  <tbody>\n",
       "    <tr>\n",
       "      <th>0</th>\n",
       "      <td>0.3315</td>\n",
       "      <td>0.2156</td>\n",
       "      <td>0.6802</td>\n",
       "      <td>0.1434</td>\n",
       "      <td>0.6825</td>\n",
       "      <td>0.2720</td>\n",
       "      <td>0.6223</td>\n",
       "      <td>0.2092</td>\n",
       "      <td>0.7961</td>\n",
       "      <td>0.1530</td>\n",
       "      <td>0.5856</td>\n",
       "      <td>0.2573</td>\n",
       "      <td>1</td>\n",
       "    </tr>\n",
       "    <tr>\n",
       "      <th>1</th>\n",
       "      <td>0.0939</td>\n",
       "      <td>1.0089</td>\n",
       "      <td>0.0365</td>\n",
       "      <td>0.6944</td>\n",
       "      <td>0.0908</td>\n",
       "      <td>0.4961</td>\n",
       "      <td>0.0722</td>\n",
       "      <td>0.6521</td>\n",
       "      <td>-0.0130</td>\n",
       "      <td>0.6085</td>\n",
       "      <td>0.0631</td>\n",
       "      <td>0.6597</td>\n",
       "      <td>2</td>\n",
       "    </tr>\n",
       "    <tr>\n",
       "      <th>2</th>\n",
       "      <td>0.5184</td>\n",
       "      <td>0.2283</td>\n",
       "      <td>0.5300</td>\n",
       "      <td>0.6884</td>\n",
       "      <td>0.7456</td>\n",
       "      <td>0.6171</td>\n",
       "      <td>0.6136</td>\n",
       "      <td>0.5928</td>\n",
       "      <td>0.7678</td>\n",
       "      <td>0.6130</td>\n",
       "      <td>0.6705</td>\n",
       "      <td>0.5202</td>\n",
       "      <td>1</td>\n",
       "    </tr>\n",
       "    <tr>\n",
       "      <th>3</th>\n",
       "      <td>0.4208</td>\n",
       "      <td>0.6740</td>\n",
       "      <td>0.1651</td>\n",
       "      <td>0.7592</td>\n",
       "      <td>0.1810</td>\n",
       "      <td>0.5448</td>\n",
       "      <td>0.1707</td>\n",
       "      <td>0.7554</td>\n",
       "      <td>0.1635</td>\n",
       "      <td>0.5492</td>\n",
       "      <td>0.2598</td>\n",
       "      <td>0.6455</td>\n",
       "      <td>2</td>\n",
       "    </tr>\n",
       "    <tr>\n",
       "      <th>4</th>\n",
       "      <td>0.3130</td>\n",
       "      <td>0.6465</td>\n",
       "      <td>0.5908</td>\n",
       "      <td>0.6924</td>\n",
       "      <td>0.7664</td>\n",
       "      <td>0.6262</td>\n",
       "      <td>1.7177</td>\n",
       "      <td>0.0150</td>\n",
       "      <td>0.0851</td>\n",
       "      <td>1.9046</td>\n",
       "      <td>-0.0165</td>\n",
       "      <td>0.0221</td>\n",
       "      <td>3</td>\n",
       "    </tr>\n",
       "  </tbody>\n",
       "</table>\n",
       "</div>"
      ],
      "text/plain": [
       "       F1      F2      F3      F4      F5      F6      F7      F8      F9  \\\n",
       "0  0.3315  0.2156  0.6802  0.1434  0.6825  0.2720  0.6223  0.2092  0.7961   \n",
       "1  0.0939  1.0089  0.0365  0.6944  0.0908  0.4961  0.0722  0.6521 -0.0130   \n",
       "2  0.5184  0.2283  0.5300  0.6884  0.7456  0.6171  0.6136  0.5928  0.7678   \n",
       "3  0.4208  0.6740  0.1651  0.7592  0.1810  0.5448  0.1707  0.7554  0.1635   \n",
       "4  0.3130  0.6465  0.5908  0.6924  0.7664  0.6262  1.7177  0.0150  0.0851   \n",
       "\n",
       "      F10     F11     F12  L  \n",
       "0  0.1530  0.5856  0.2573  1  \n",
       "1  0.6085  0.0631  0.6597  2  \n",
       "2  0.6130  0.6705  0.5202  1  \n",
       "3  0.5492  0.2598  0.6455  2  \n",
       "4  1.9046 -0.0165  0.0221  3  "
      ]
     },
     "execution_count": 2,
     "metadata": {},
     "output_type": "execute_result"
    }
   ],
   "source": [
    "# Loading train data\n",
    "train = pd.read_csv('trndata.csv')\n",
    "print('Training set shape:', train.shape)\n",
    "train.head()"
   ]
  },
  {
   "cell_type": "code",
   "execution_count": 3,
   "id": "quiet-sherman",
   "metadata": {},
   "outputs": [
    {
     "name": "stdout",
     "output_type": "stream",
     "text": [
      "Test set shape: (300, 13)\n"
     ]
    },
    {
     "data": {
      "text/html": [
       "<div>\n",
       "<style scoped>\n",
       "    .dataframe tbody tr th:only-of-type {\n",
       "        vertical-align: middle;\n",
       "    }\n",
       "\n",
       "    .dataframe tbody tr th {\n",
       "        vertical-align: top;\n",
       "    }\n",
       "\n",
       "    .dataframe thead th {\n",
       "        text-align: right;\n",
       "    }\n",
       "</style>\n",
       "<table border=\"1\" class=\"dataframe\">\n",
       "  <thead>\n",
       "    <tr style=\"text-align: right;\">\n",
       "      <th></th>\n",
       "      <th>F1</th>\n",
       "      <th>F2</th>\n",
       "      <th>F3</th>\n",
       "      <th>F4</th>\n",
       "      <th>F5</th>\n",
       "      <th>F6</th>\n",
       "      <th>F7</th>\n",
       "      <th>F8</th>\n",
       "      <th>F9</th>\n",
       "      <th>F10</th>\n",
       "      <th>F11</th>\n",
       "      <th>F12</th>\n",
       "      <th>L</th>\n",
       "    </tr>\n",
       "  </thead>\n",
       "  <tbody>\n",
       "    <tr>\n",
       "      <th>0</th>\n",
       "      <td>0.5803</td>\n",
       "      <td>0.4980</td>\n",
       "      <td>0.8809</td>\n",
       "      <td>0.8215</td>\n",
       "      <td>1.0133</td>\n",
       "      <td>0.9187</td>\n",
       "      <td>0.8508</td>\n",
       "      <td>0.8496</td>\n",
       "      <td>0.9996</td>\n",
       "      <td>0.9670</td>\n",
       "      <td>0.9111</td>\n",
       "      <td>0.7814</td>\n",
       "      <td>1</td>\n",
       "    </tr>\n",
       "    <tr>\n",
       "      <th>1</th>\n",
       "      <td>0.0026</td>\n",
       "      <td>0.6084</td>\n",
       "      <td>0.2808</td>\n",
       "      <td>0.6282</td>\n",
       "      <td>0.2995</td>\n",
       "      <td>0.7513</td>\n",
       "      <td>-0.0107</td>\n",
       "      <td>1.7503</td>\n",
       "      <td>-0.0622</td>\n",
       "      <td>2.0704</td>\n",
       "      <td>-0.0999</td>\n",
       "      <td>0.1214</td>\n",
       "      <td>3</td>\n",
       "    </tr>\n",
       "    <tr>\n",
       "      <th>2</th>\n",
       "      <td>-0.0115</td>\n",
       "      <td>1.1193</td>\n",
       "      <td>0.2201</td>\n",
       "      <td>1.3189</td>\n",
       "      <td>0.2656</td>\n",
       "      <td>1.4039</td>\n",
       "      <td>-0.0067</td>\n",
       "      <td>1.7438</td>\n",
       "      <td>0.0013</td>\n",
       "      <td>2.0020</td>\n",
       "      <td>-0.0401</td>\n",
       "      <td>1.7797</td>\n",
       "      <td>3</td>\n",
       "    </tr>\n",
       "    <tr>\n",
       "      <th>3</th>\n",
       "      <td>-0.0536</td>\n",
       "      <td>1.0370</td>\n",
       "      <td>0.0558</td>\n",
       "      <td>1.2483</td>\n",
       "      <td>0.2640</td>\n",
       "      <td>1.1456</td>\n",
       "      <td>0.0140</td>\n",
       "      <td>1.7156</td>\n",
       "      <td>0.0125</td>\n",
       "      <td>1.9889</td>\n",
       "      <td>-0.0598</td>\n",
       "      <td>0.0709</td>\n",
       "      <td>3</td>\n",
       "    </tr>\n",
       "    <tr>\n",
       "      <th>4</th>\n",
       "      <td>0.5021</td>\n",
       "      <td>0.4270</td>\n",
       "      <td>0.6450</td>\n",
       "      <td>0.8325</td>\n",
       "      <td>0.7560</td>\n",
       "      <td>0.9235</td>\n",
       "      <td>0.7289</td>\n",
       "      <td>0.7352</td>\n",
       "      <td>0.7735</td>\n",
       "      <td>0.9298</td>\n",
       "      <td>0.6013</td>\n",
       "      <td>0.8842</td>\n",
       "      <td>1</td>\n",
       "    </tr>\n",
       "  </tbody>\n",
       "</table>\n",
       "</div>"
      ],
      "text/plain": [
       "       F1      F2      F3      F4      F5      F6      F7      F8      F9  \\\n",
       "0  0.5803  0.4980  0.8809  0.8215  1.0133  0.9187  0.8508  0.8496  0.9996   \n",
       "1  0.0026  0.6084  0.2808  0.6282  0.2995  0.7513 -0.0107  1.7503 -0.0622   \n",
       "2 -0.0115  1.1193  0.2201  1.3189  0.2656  1.4039 -0.0067  1.7438  0.0013   \n",
       "3 -0.0536  1.0370  0.0558  1.2483  0.2640  1.1456  0.0140  1.7156  0.0125   \n",
       "4  0.5021  0.4270  0.6450  0.8325  0.7560  0.9235  0.7289  0.7352  0.7735   \n",
       "\n",
       "      F10     F11     F12  L  \n",
       "0  0.9670  0.9111  0.7814  1  \n",
       "1  2.0704 -0.0999  0.1214  3  \n",
       "2  2.0020 -0.0401  1.7797  3  \n",
       "3  1.9889 -0.0598  0.0709  3  \n",
       "4  0.9298  0.6013  0.8842  1  "
      ]
     },
     "execution_count": 3,
     "metadata": {},
     "output_type": "execute_result"
    }
   ],
   "source": [
    "# Loading test data\n",
    "test = pd.read_csv('tstdata.csv')\n",
    "print('Test set shape:', test.shape)\n",
    "test.head()"
   ]
  },
  {
   "cell_type": "markdown",
   "id": "relevant-dress",
   "metadata": {},
   "source": [
    "## Task 1 (b)"
   ]
  },
  {
   "cell_type": "code",
   "execution_count": 4,
   "id": "catholic-extension",
   "metadata": {},
   "outputs": [
    {
     "data": {
      "image/png": "[encoded data removed]",
      "text/plain": [
       "<Figure size 720x432 with 1 Axes>"
      ]
     },
     "metadata": {
      "needs_background": "light"
     },
     "output_type": "display_data"
    }
   ],
   "source": [
    "# Scatter Plot with two features and three classes\n",
    "# setting up labels and colours for whole project\n",
    "label_dict = {1: 'homogeneous', 2: 'annular', 3: 'laminar'}\n",
    "labels = [1, 2, 3]\n",
    "colours = ['red', 'green', 'blue']\n",
    "\n",
    "# plot style\n",
    "fig = plt.figure(figsize = (10, 6))\n",
    "\n",
    "# plot data\n",
    "for label, colour in zip(labels, colours):\n",
    "    idx = train.L == label\n",
    "    plt.scatter(train.loc[idx, 'F3'], train.loc[idx, 'F9'], color=colour, label=label_dict[labels[label-1]])\n",
    "\n",
    "# plot format\n",
    "plt.title('Scatter Plot', fontsize=20)\n",
    "plt.xlabel('X - F3', fontsize=14)\n",
    "plt.ylabel('Y - F9', fontsize=14)\n",
    "plt.legend(loc='best')\n",
    "plt.show()"
   ]
  },
  {
   "cell_type": "markdown",
   "id": "mobile-asbestos",
   "metadata": {},
   "source": [
    "## Task 1 (c)"
   ]
  },
  {
   "cell_type": "code",
   "execution_count": 5,
   "id": "going-precipitation",
   "metadata": {},
   "outputs": [],
   "source": [
    "# Normalise training and test sets\n",
    "# getting data from training set\n",
    "train_inputs = train.iloc[:, :12]\n",
    "train_labels = train.iloc[:,12]\n",
    "\n",
    "# getting data from test set\n",
    "test_inputs = test.iloc[:, :12]\n",
    "test_labels = test.iloc[:,12]\n",
    "\n",
    "# fit training set\n",
    "scaler_original = StandardScaler().fit(train_inputs)\n",
    "\n",
    "# transform train and test sets\n",
    "scaled_train_inputs = scaler_original.transform(train_inputs)\n",
    "scaled_test_inputs = scaler_original.transform(test_inputs)"
   ]
  },
  {
   "cell_type": "markdown",
   "id": "jewish-ability",
   "metadata": {},
   "source": [
    "## Task 1 (d)"
   ]
  },
  {
   "cell_type": "code",
   "execution_count": 6,
   "id": "structural-easter",
   "metadata": {},
   "outputs": [
    {
     "data": {
      "image/png": "[encoded data removed]",
      "text/plain": [
       "<Figure size 720x432 with 1 Axes>"
      ]
     },
     "metadata": {
      "needs_background": "light"
     },
     "output_type": "display_data"
    },
    {
     "name": "stdout",
     "output_type": "stream",
     "text": [
      "Variance ratio captured by each PC: [0.44 0.64 0.79 0.86 0.92 0.95 0.97 0.98 0.99 1.   1.   1.  ]\n",
      "\n",
      "Variance captured by each PC: [5.27 2.37 1.86 0.81 0.74 0.34 0.2  0.16 0.12 0.09 0.03 0.01]\n",
      "\n",
      "Projection training set shape: (1000, 12)\n",
      "\n",
      "Projection training set:\n",
      " [[ 1.7525665   0.24970251 -1.23222812 ... -0.0213878   0.12900918\n",
      "   0.07866654]\n",
      " [-2.80600794  0.67677533 -1.32311273 ...  0.04528735 -0.08790963\n",
      "  -0.00628388]\n",
      " [ 0.58384047 -0.82271245 -0.08518155 ... -0.49416162 -0.16008337\n",
      "  -0.06464515]\n",
      " ...\n",
      " [ 1.73913261 -1.20691542  1.72647523 ...  0.39477021 -0.02800862\n",
      "  -0.06408446]\n",
      " [-0.72489913 -1.88007675 -0.3545893  ...  0.01453811 -0.01324312\n",
      "   0.01968521]\n",
      " [-2.67630836  1.05240255 -0.64298981 ...  0.15501292  0.0933526\n",
      "   0.0836483 ]]\n"
     ]
    }
   ],
   "source": [
    "# PCA analysis\n",
    "pca = PCA()\n",
    "pca1 = pca.fit(scaled_train_inputs)\n",
    "proj_train_input = pca1.transform(scaled_train_inputs)\n",
    "index = np.arange(pca1.n_components_) + 1\n",
    "\n",
    "# scree plot\n",
    "# plot style\n",
    "fig = plt.figure(figsize = (10, 6))\n",
    "\n",
    "# plot data\n",
    "plt.plot(index, pca1.explained_variance_ratio_, 'ro-', linewidth=2)\n",
    "\n",
    "# plot format\n",
    "plt.title('Scree Plot', fontsize=20)\n",
    "plt.xlabel('Number of Principal Components', fontsize=14)\n",
    "plt.ylabel('Cumulative Variance Explained', fontsize=14)\n",
    "plt.legend(['Eigenvalues'], loc='best')\n",
    "plt.grid()\n",
    "plt.show()\n",
    "\n",
    "print('Variance ratio captured by each PC:', np.cumsum(np.round(pca1.explained_variance_ratio_, 2)))\n",
    "print('\\nVariance captured by each PC:', np.round(pca1.explained_variance_, 2))\n",
    "print('\\nProjection training set shape:', proj_train_input.shape)\n",
    "print('\\nProjection training set:\\n', proj_train_input)"
   ]
  },
  {
   "cell_type": "markdown",
   "id": "southwest-ladder",
   "metadata": {},
   "source": [
    "## Task 1 (e)"
   ]
  },
  {
   "cell_type": "code",
   "execution_count": 7,
   "id": "continued-lebanon",
   "metadata": {},
   "outputs": [
    {
     "name": "stdout",
     "output_type": "stream",
     "text": [
      "Variation per Principal Component: [0.439 0.197 0.155]\n"
     ]
    },
    {
     "data": {
      "image/png": "[encoded data removed]",
      "text/plain": [
       "<Figure size 1080x432 with 2 Axes>"
      ]
     },
     "metadata": {
      "needs_background": "light"
     },
     "output_type": "display_data"
    }
   ],
   "source": [
    "# Two subplots:\n",
    "pca_3 = PCA(n_components=3)\n",
    "pca_input = pca_3.fit_transform(scaled_train_inputs)\n",
    "print('Variation per Principal Component: {}'.format(np.round(pca_3.explained_variance_ratio_, 3)))\n",
    "\n",
    "# create a DataFrame to hold principal components values\n",
    "pca_df = pd.DataFrame(data = pca_input, columns = ['PC1', 'PC2', 'PC3'])\n",
    "\n",
    "# 2 plots\n",
    "fig, ax = plt.subplots(1, 2, figsize=(15, 6))\n",
    "fig.suptitle('Principal Component Analysis', fontsize=20)\n",
    "\n",
    "# PC1 and PC2 plot\n",
    "for label, colour in zip(labels, colours):\n",
    "    idx = train.L == label\n",
    "    ax[0].scatter(pca_df.loc[idx, 'PC1'], pca_df.loc[idx, 'PC2'], color=colour, label=label_dict[labels[label-1]])\n",
    "ax[0].set_title('63% of total variance', fontsize=16)\n",
    "ax[0].set_xlabel('PC1', fontsize=14)\n",
    "ax[0].set_ylabel('PC2', fontsize=14)\n",
    "ax[0].legend(loc='best')\n",
    "\n",
    "# PC2 and PC3 plot\n",
    "for label, colour in zip(labels, colours):\n",
    "    idx = train.L == label\n",
    "    ax[1].scatter(pca_df.loc[idx, 'PC2'], pca_df.loc[idx, 'PC3'], color=colour, label=label_dict[labels[label-1]])\n",
    "ax[1].set_title('35% of total variance', fontsize=16)\n",
    "ax[1].set_xlabel('PC2', fontsize=14)\n",
    "ax[1].set_ylabel('PC3', fontsize=14)\n",
    "ax[1].legend(loc='best')\n",
    "\n",
    "plt.show()"
   ]
  },
  {
   "cell_type": "markdown",
   "id": "treated-jewel",
   "metadata": {},
   "source": [
    "## Task 1 (f)"
   ]
  },
  {
   "cell_type": "code",
   "execution_count": 8,
   "id": "horizontal-helicopter",
   "metadata": {},
   "outputs": [
    {
     "name": "stdout",
     "output_type": "stream",
     "text": [
      "Projection test set shape: (300, 12)\n",
      "\n",
      "Projection test set:\n",
      " [[ 1.7525665   0.24970251 -1.23222812 ... -0.0213878   0.12900918\n",
      "   0.07866654]\n",
      " [-2.80600794  0.67677533 -1.32311273 ...  0.04528735 -0.08790963\n",
      "  -0.00628388]\n",
      " [ 0.58384047 -0.82271245 -0.08518155 ... -0.49416162 -0.16008337\n",
      "  -0.06464515]\n",
      " ...\n",
      " [ 1.73913261 -1.20691542  1.72647523 ...  0.39477021 -0.02800862\n",
      "  -0.06408446]\n",
      " [-0.72489913 -1.88007675 -0.3545893  ...  0.01453811 -0.01324312\n",
      "   0.01968521]\n",
      " [-2.67630836  1.05240255 -0.64298981 ...  0.15501292  0.0933526\n",
      "   0.0836483 ]]\n"
     ]
    }
   ],
   "source": [
    "# Projection of the scaled test\n",
    "proj_test_input = pca1.transform(scaled_test_inputs)\n",
    "print('Projection test set shape:', proj_test_input.shape)\n",
    "print('\\nProjection test set:\\n', proj_train_input)"
   ]
  },
  {
   "cell_type": "markdown",
   "id": "bacterial-globe",
   "metadata": {},
   "source": [
    "## Task 2 (a)"
   ]
  },
  {
   "cell_type": "code",
   "execution_count": 9,
   "id": "brown-major",
   "metadata": {},
   "outputs": [
    {
     "name": "stdout",
     "output_type": "stream",
     "text": [
      "Training inputs: (700, 12)\n",
      "Validation inputs: (300, 12)\n",
      "Training labels: (700,)\n",
      "Validation labels: (300,)\n"
     ]
    }
   ],
   "source": [
    "X_train, X_valid, y_train, y_valid = train_test_split(train_inputs, train_labels, test_size=0.3, random_state=10)\n",
    "print('Training inputs:', X_train.shape)\n",
    "print('Validation inputs:', X_valid.shape)\n",
    "print('Training labels:', y_train.shape)\n",
    "print('Validation labels:', y_valid.shape)"
   ]
  },
  {
   "cell_type": "markdown",
   "id": "another-steam",
   "metadata": {},
   "source": [
    "## Task 2 (b)"
   ]
  },
  {
   "cell_type": "code",
   "execution_count": 10,
   "id": "annual-philip",
   "metadata": {},
   "outputs": [],
   "source": [
    "# Normalise training and validation sets\n",
    "# fit training set\n",
    "scaler_split = StandardScaler().fit(X_train)\n",
    "\n",
    "# transform training and validation sets\n",
    "scaled_X_train = scaler_split.transform(X_train)\n",
    "scaled_X_valid = scaler_split.transform(X_valid)"
   ]
  },
  {
   "cell_type": "markdown",
   "id": "prepared-dover",
   "metadata": {},
   "source": [
    "## Task 3 (a)i"
   ]
  },
  {
   "cell_type": "code",
   "execution_count": 11,
   "id": "asian-drawing",
   "metadata": {},
   "outputs": [],
   "source": [
    "# Choosing the most suitable parameters\n",
    "# setting up target names for whole project \n",
    "target_names = ['homogeneous', 'annular', 'laminar']"
   ]
  },
  {
   "cell_type": "code",
   "execution_count": 12,
   "id": "otherwise-programming",
   "metadata": {},
   "outputs": [
    {
     "name": "stdout",
     "output_type": "stream",
     "text": [
      "Model 1: C=50, y=10\n",
      "              precision    recall  f1-score   support\n",
      "\n",
      " homogeneous       0.66      1.00      0.80       103\n",
      "     annular       1.00      0.60      0.75       102\n",
      "     laminar       1.00      0.87      0.93        95\n",
      "\n",
      "    accuracy                           0.82       300\n",
      "   macro avg       0.89      0.82      0.83       300\n",
      "weighted avg       0.88      0.82      0.82       300\n",
      "\n",
      "Model 1 accuracy: 0.8233333333333334\n"
     ]
    }
   ],
   "source": [
    "# Model 1: C=50, y=10\n",
    "svc1 = SVC(kernel='rbf', class_weight='balanced', C=50, gamma=10)\n",
    "model1 = svc1.fit(scaled_X_train, y_train)\n",
    "vyfit1 = model1.predict(scaled_X_valid)\n",
    "print('Model 1: C=50, y=10')\n",
    "print(classification_report(y_valid, vyfit1, target_names=target_names))\n",
    "print('Model 1 accuracy:', accuracy_score(y_valid, vyfit1))"
   ]
  },
  {
   "cell_type": "code",
   "execution_count": 13,
   "id": "regulation-meter",
   "metadata": {},
   "outputs": [
    {
     "name": "stdout",
     "output_type": "stream",
     "text": [
      "Model 2: C=50, y=20\n",
      "              precision    recall  f1-score   support\n",
      "\n",
      " homogeneous       1.00      0.46      0.63       103\n",
      "     annular       1.00      0.16      0.27       102\n",
      "     laminar       0.40      1.00      0.57        95\n",
      "\n",
      "    accuracy                           0.53       300\n",
      "   macro avg       0.80      0.54      0.49       300\n",
      "weighted avg       0.81      0.53      0.49       300\n",
      "\n",
      "Model 2 accuracy: 0.5266666666666666\n"
     ]
    }
   ],
   "source": [
    "# Model 2: C=50, y=20\n",
    "svc2 = SVC(kernel='rbf', class_weight='balanced', C=50, gamma=20)\n",
    "model2 = svc2.fit(scaled_X_train, y_train)\n",
    "vyfit2 = model2.predict(scaled_X_valid)\n",
    "print('Model 2: C=50, y=20')\n",
    "print(classification_report(y_valid, vyfit2, target_names=target_names))\n",
    "print('Model 2 accuracy:', accuracy_score(y_valid, vyfit2))"
   ]
  },
  {
   "cell_type": "code",
   "execution_count": 14,
   "id": "chicken-retreat",
   "metadata": {},
   "outputs": [
    {
     "name": "stdout",
     "output_type": "stream",
     "text": [
      "Model 3: C=100, y=10\n",
      "              precision    recall  f1-score   support\n",
      "\n",
      " homogeneous       0.66      1.00      0.80       103\n",
      "     annular       1.00      0.60      0.75       102\n",
      "     laminar       1.00      0.87      0.93        95\n",
      "\n",
      "    accuracy                           0.82       300\n",
      "   macro avg       0.89      0.82      0.83       300\n",
      "weighted avg       0.88      0.82      0.82       300\n",
      "\n",
      "Model 3 accuracy: 0.8233333333333334\n"
     ]
    }
   ],
   "source": [
    "# Model 3: C=100, y=10\n",
    "svc3 = SVC(kernel='rbf', class_weight='balanced', C=100, gamma=10)\n",
    "model3 = svc3.fit(scaled_X_train, y_train)\n",
    "vyfit3 = model3.predict(scaled_X_valid)\n",
    "print('Model 3: C=100, y=10')\n",
    "print(classification_report(y_valid, vyfit3, target_names=target_names))\n",
    "print('Model 3 accuracy:', accuracy_score(y_valid, vyfit3))"
   ]
  },
  {
   "cell_type": "code",
   "execution_count": 15,
   "id": "revolutionary-spencer",
   "metadata": {},
   "outputs": [
    {
     "name": "stdout",
     "output_type": "stream",
     "text": [
      "Model 4: C=100, y=20\n",
      "              precision    recall  f1-score   support\n",
      "\n",
      " homogeneous       0.66      1.00      0.80       103\n",
      "     annular       1.00      0.60      0.75       102\n",
      "     laminar       1.00      0.87      0.93        95\n",
      "\n",
      "    accuracy                           0.82       300\n",
      "   macro avg       0.89      0.82      0.83       300\n",
      "weighted avg       0.88      0.82      0.82       300\n",
      "\n",
      "Model 4 accuracy: 0.8233333333333334\n"
     ]
    }
   ],
   "source": [
    "# Model 4: C=100, y=20\n",
    "svc4 = SVC(kernel='rbf', class_weight='balanced', C=100, gamma=20)\n",
    "model4 = svc1.fit(scaled_X_train, y_train)\n",
    "vyfit4 = model4.predict(scaled_X_valid)\n",
    "print('Model 4: C=100, y=20')\n",
    "print(classification_report(y_valid, vyfit4, target_names=target_names))\n",
    "print('Model 4 accuracy:', accuracy_score(y_valid, vyfit4))"
   ]
  },
  {
   "cell_type": "markdown",
   "id": "previous-stereo",
   "metadata": {},
   "source": [
    "## Task 3 (a)ii"
   ]
  },
  {
   "cell_type": "code",
   "execution_count": 16,
   "id": "heavy-picture",
   "metadata": {},
   "outputs": [
    {
     "name": "stdout",
     "output_type": "stream",
     "text": [
      "Final Model: C=50, y=10\n",
      "              precision    recall  f1-score   support\n",
      "\n",
      " homogeneous       0.71      1.00      0.83        98\n",
      "     annular       1.00      0.81      0.89        98\n",
      "     laminar       1.00      0.80      0.89       104\n",
      "\n",
      "    accuracy                           0.87       300\n",
      "   macro avg       0.90      0.87      0.87       300\n",
      "weighted avg       0.91      0.87      0.87       300\n",
      "\n",
      "Final Model accuracy: 0.8666666666666667\n"
     ]
    }
   ],
   "source": [
    "# Non-linear classification\n",
    "# Final Model: C=50, y=10\n",
    "svc_final = SVC(kernel='rbf', class_weight='balanced', C=50, gamma=10)\n",
    "model_final = svc_final.fit(scaled_train_inputs, train_labels)\n",
    "vyfit_final = model_final.predict(scaled_test_inputs)\n",
    "print('Final Model: C=50, y=10')\n",
    "print(classification_report(test_labels, vyfit_final, target_names=target_names))\n",
    "print('Final Model accuracy:', accuracy_score(test_labels, vyfit_final))"
   ]
  },
  {
   "cell_type": "markdown",
   "id": "organizational-baseline",
   "metadata": {},
   "source": [
    "## Task 3 (b)i"
   ]
  },
  {
   "cell_type": "code",
   "execution_count": 17,
   "id": "rural-senegal",
   "metadata": {},
   "outputs": [
    {
     "data": {
      "text/plain": [
       "'\\nSuggests four(4) principal components to do feature reduction because they have captured most of the information.\\nAn ideal curve should be steep, then levels off like an elbow.\\nWhere the slope levels off have the number of principal components to keep.\\n'"
      ]
     },
     "execution_count": 17,
     "metadata": {},
     "output_type": "execute_result"
    }
   ],
   "source": [
    "'''\n",
    "Suggests four(4) principal components to do feature reduction because they have captured most of the information.\n",
    "An ideal curve should be steep, then levels off like an elbow.\n",
    "Where the slope levels off have the number of principal components to keep.\n",
    "'''"
   ]
  },
  {
   "cell_type": "markdown",
   "id": "disciplinary-pattern",
   "metadata": {},
   "source": [
    "## Task 3 (b)ii"
   ]
  },
  {
   "cell_type": "code",
   "execution_count": 18,
   "id": "informal-summary",
   "metadata": {},
   "outputs": [
    {
     "name": "stdout",
     "output_type": "stream",
     "text": [
      "train (1000, 4)\n",
      "test (300, 4)\n"
     ]
    }
   ],
   "source": [
    "# Feature reduction to 4 PC of training and test sets\n",
    "reduced_train_input = proj_train_input[:, :4]\n",
    "print(\"train\", reduced_train_input.shape)\n",
    "\n",
    "reduced_test_input = proj_test_input[:, :4]\n",
    "print(\"test\", reduced_test_input.shape)"
   ]
  },
  {
   "cell_type": "markdown",
   "id": "dramatic-transsexual",
   "metadata": {},
   "source": [
    "## Task 3 (b)iii"
   ]
  },
  {
   "cell_type": "code",
   "execution_count": 19,
   "id": "judicial-majority",
   "metadata": {},
   "outputs": [
    {
     "name": "stdout",
     "output_type": "stream",
     "text": [
      "Final Reduced Model: C=50, y=10\n",
      "              precision    recall  f1-score   support\n",
      "\n",
      " homogeneous       0.89      0.94      0.92        98\n",
      "     annular       0.94      0.89      0.91        98\n",
      "     laminar       0.99      0.99      0.99       104\n",
      "\n",
      "    accuracy                           0.94       300\n",
      "   macro avg       0.94      0.94      0.94       300\n",
      "weighted avg       0.94      0.94      0.94       300\n",
      "\n",
      "Final Reduced Model accuracy: 0.94\n"
     ]
    }
   ],
   "source": [
    "# Classification\n",
    "# normalising training and test sets after feature reduction\n",
    "scaler_reduced = StandardScaler().fit(reduced_train_input)\n",
    "\n",
    "# transform training and test sets\n",
    "reduced_scaled_train = scaler_reduced.transform(reduced_train_input)\n",
    "reduced_scaled_test = scaler_reduced.transform(reduced_test_input)\n",
    "\n",
    "# training a model: C=50, y=10\n",
    "svc_reduced = SVC(kernel='rbf', class_weight='balanced', C=50, gamma=10)\n",
    "model_reduced = svc_reduced.fit(reduced_scaled_train, train_labels)\n",
    "vyfit_reduced = model_reduced.predict(reduced_scaled_test)\n",
    "\n",
    "# classification results\n",
    "print('Final Reduced Model: C=50, y=10')\n",
    "print(classification_report(test_labels, vyfit_reduced, target_names=target_names))\n",
    "print('Final Reduced Model accuracy:', accuracy_score(test_labels, vyfit_reduced))"
   ]
  },
  {
   "cell_type": "code",
   "execution_count": null,
   "id": "developing-soldier",
   "metadata": {},
   "outputs": [],
   "source": []
  }
 ],
 "metadata": {
  "kernelspec": {
   "display_name": "Python 3",
   "language": "python",
   "name": "python3"
  },
  "language_info": {
   "codemirror_mode": {
    "name": "ipython",
    "version": 3
   },
   "file_extension": ".py",
   "mimetype": "text/x-python",
   "name": "python",
   "nbconvert_exporter": "python",
   "pygments_lexer": "ipython3",
   "version": "3.8.5"
  }
 },
 "nbformat": 4,
 "nbformat_minor": 5
}
